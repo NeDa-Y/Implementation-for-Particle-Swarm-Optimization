{
 "cells": [
  {
   "cell_type": "markdown",
   "metadata": {
    "id": "1jnbNe9ZweCV"
   },
   "source": [
    "# **Neda Yousefi**"
   ]
  },
  {
   "cell_type": "markdown",
   "metadata": {
    "id": "pu7CCviAwhoM"
   },
   "source": [
    "# **Implementation for Particle Swarm Optimization** "
   ]
  },
  {
   "cell_type": "markdown",
   "metadata": {
    "id": "djHY_uGRxdi1"
   },
   "source": [
    "# **Import Libraries**\n",
    "\n"
   ]
  },
  {
   "cell_type": "code",
   "execution_count": null,
   "metadata": {
    "id": "Lbh49f0Uvp7W"
   },
   "outputs": [],
   "source": [
    "import numpy as np"
   ]
  },
  {
   "cell_type": "markdown",
   "metadata": {
    "id": "fGfnAVg9xuMV"
   },
   "source": [
    "# **Here the Rastrigin Function is used as Objective Function for Minimization**\n",
    "\n",
    "n : number of input parameters (It can be Changed)\n",
    "\n",
    "minx, maxx : the domain of the function"
   ]
  },
  {
   "cell_type": "code",
   "execution_count": null,
   "metadata": {
    "id": "ntsMJgqmvu8c"
   },
   "outputs": [],
   "source": [
    "minx, maxx = -5.12, 5.12\n",
    "n = 5\n",
    "def rastrigin(x):\n",
    "    return 10 * len(x) + sum([xi * xi - 10 * np.cos(2 * 3.14 * xi) for xi in x])"
   ]
  },
  {
   "cell_type": "code",
   "execution_count": null,
   "metadata": {
    "id": "3UX6I_JUzBks"
   },
   "outputs": [],
   "source": [
    "class Particle:\n",
    "    def __init__(self):\n",
    "        self.value = (maxx - minx) * np.random.rand(n) + minx\n",
    "        self.velocity = np.random.rand(n)\n",
    "        self.fitness = rastrigin(self.value)\n",
    "        self.best_value = np.copy(self.value)\n",
    "        self.best_fitness = self.fitness"
   ]
  },
  {
   "cell_type": "markdown",
   "metadata": {
    "id": "TmSLqPArz3ed"
   },
   "source": [
    "The algorithm runs for 100 iterations.\\\n",
    "Swarm size is 10 (It can be changed). \\\n",
    "Three hyper-parameters are used: w, C1, C2.\\\n",
    "w : inertion parameter \\\n",
    "C1 - cognitive parameter \\\n",
    "C2 - social parameter \\\n",
    "The initial value for W, C1, C2 are optional and can be changed. \n",
    "\\\n",
    "best_fitness : Personal Best- Pbest\\\n",
    "best_swarm_fitness: Group Best- gbest\\\n",
    "best_swarm_fitness = 1000 : is a large positive number for this Minimization problem"
   ]
  },
  {
   "cell_type": "code",
   "execution_count": null,
   "metadata": {
    "colab": {
     "base_uri": "https://localhost:8080/"
    },
    "id": "Hebfb_2_zplc",
    "outputId": "02d1fd28-87b5-4031-e118-b210f2cbc862"
   },
   "outputs": [
    {
     "name": "stdout",
     "output_type": "stream",
     "text": [
      "Solution:  [-1.95474891  1.03945941  1.02962605  1.00164949 -0.03527914]\n",
      "Fitness:  0\n"
     ]
    }
   ],
   "source": [
    "w = 0.8\n",
    "c1 = 1.4\n",
    "c2 = 1.4\n",
    "\n",
    "swarm_size = 10\n",
    "swarm = [ Particle() for i in range(swarm_size) ]\n",
    "\n",
    "best_swarm_fitness = 1000\n",
    "for i in range(swarm_size):   \n",
    "    if swarm[i].fitness < best_swarm_fitness:\n",
    "        best_swarm_fitness = swarm[i].fitness\n",
    "        best_swarm_value = swarm[i].value\n",
    "        \n",
    "for iteration in range(100):\n",
    "    for i in range(swarm_size):\n",
    "        swarm[i].velocity = w * swarm[i].velocity + c1 * np.random.rand(n) * (swarm[i].best_value - swarm[i].value) + c2 * np.random.rand(n) * (best_swarm_value - swarm[i].value)\n",
    "        swarm[i].value = swarm[i].value + swarm[i].velocity\n",
    "        swarm[i].fitness = rastrigin(swarm[i].value)\n",
    "        \n",
    "        if swarm[i].fitness < swarm[i].best_fitness:\n",
    "            swarm[i].best_value = swarm[i].value\n",
    "            swarm[i].best_fitness = swarm[i].fitness\n",
    "            \n",
    "        if swarm[i].fitness < best_swarm_fitness:\n",
    "            best_swarm_fitness = swarm[i].fitness\n",
    "            best_swarm_value = swarm[i].value\n",
    "\n",
    "print(\"Solution: \", best_swarm_value)\n",
    "print(\"Fitness: \", best_swarm_fitness)"
   ]
  },
  {
   "cell_type": "code",
   "execution_count": null,
   "metadata": {
    "id": "PgVEBkjj_e3h"
   },
   "outputs": [],
   "source": []
  }
 ],
 "metadata": {
  "colab": {
   "collapsed_sections": [],
   "name": "PSO Algorithm.ipynb",
   "provenance": []
  },
  "kernelspec": {
   "display_name": "Python 3 (ipykernel)",
   "language": "python",
   "name": "python3"
  },
  "language_info": {
   "codemirror_mode": {
    "name": "ipython",
    "version": 3
   },
   "file_extension": ".py",
   "mimetype": "text/x-python",
   "name": "python",
   "nbconvert_exporter": "python",
   "pygments_lexer": "ipython3",
   "version": "3.9.13"
  }
 },
 "nbformat": 4,
 "nbformat_minor": 1
}
